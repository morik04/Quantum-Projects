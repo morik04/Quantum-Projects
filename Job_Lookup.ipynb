{
 "cells": [
  {
   "cell_type": "code",
   "execution_count": 48,
   "metadata": {},
   "outputs": [],
   "source": [
    "from qiskit import *\n",
    "from qiskit_ibm_runtime import *"
   ]
  },
  {
   "cell_type": "code",
   "execution_count": null,
   "metadata": {},
   "outputs": [],
   "source": [
    "service=QiskitRuntimeService()\n",
    "job_id=''        #insert job_id here\n",
    "job=service.job(job_id)\n",
    "print(job)"
   ]
  },
  {
   "cell_type": "code",
   "execution_count": null,
   "metadata": {},
   "outputs": [],
   "source": [
    "print(job.result())\n",
    "job_result=job.result()"
   ]
  },
  {
   "cell_type": "code",
   "execution_count": null,
   "metadata": {},
   "outputs": [],
   "source": [
    "# Inspect the object's attributes\n",
    "print(dir(job_result))\n",
    "\n",
    "# Check for available methods or attributes\n",
    "print(job_result.__dict__)  # If it has a __dict__ attribute"
   ]
  },
  {
   "cell_type": "code",
   "execution_count": null,
   "metadata": {},
   "outputs": [],
   "source": [
    "pub_result = job_result[0]\n",
    "\n",
    "# Check the classical register name\n",
    "classical_register = list(pub_result.data.__dict__.keys())[0]  # Typically 'c'\n",
    "\n",
    "# Extract counts\n",
    "counts = pub_result.data.__dict__[classical_register].get_counts()\n",
    "\n",
    "# Print results\n",
    "print(counts)\n",
    "\n",
    "\n",
    "#Notice the slight error, this is due to quantum noise#"
   ]
  },
  {
   "cell_type": "code",
   "execution_count": null,
   "metadata": {},
   "outputs": [],
   "source": [
    "# Find the key with the highest value\n",
    "highest_count_key = max(counts, key=counts.get)\n",
    "highest_count_value = counts[highest_count_key]\n",
    "\n",
    "# Print the result\n",
    "print(f\"The highest count is '{highest_count_key}' with {highest_count_value} occurrences.\")"
   ]
  },
  {
   "cell_type": "code",
   "execution_count": null,
   "metadata": {},
   "outputs": [],
   "source": [
    "import itertools\n",
    "\n",
    "# Define the number of bits\n",
    "num_bits =\n",
    "\n",
    "# Generate all combinations of 0 and 1 for the given number of bits\n",
    "binary_numbers = [''.join(map(str, bits)) for bits in itertools.product([0, 1], repeat=num_bits)]\n",
    "\n",
    "# Print the result\n",
    "print(binary_numbers)"
   ]
  },
  {
   "cell_type": "code",
   "execution_count": null,
   "metadata": {},
   "outputs": [],
   "source": [
    "categories=binary_numbers\n",
    "# Extract the counts for each category\n",
    "counts_list = [counts.get(category, 0) for category in categories]\n",
    "\n",
    "# Plot the bar graph\n",
    "plt.bar(categories, counts_list, color='blue')\n",
    "plt.xlabel('States')\n",
    "plt.ylabel('Counts')\n",
    "plt.title('Ran on IBM Quantum')\n",
    "plt.show()"
   ]
  }
 ],
 "metadata": {
  "kernelspec": {
   "display_name": ".venv",
   "language": "python",
   "name": "python3"
  },
  "language_info": {
   "codemirror_mode": {
    "name": "ipython",
    "version": 3
   },
   "file_extension": ".py",
   "mimetype": "text/x-python",
   "name": "python",
   "nbconvert_exporter": "python",
   "pygments_lexer": "ipython3",
   "version": "3.12.7"
  }
 },
 "nbformat": 4,
 "nbformat_minor": 2
}
